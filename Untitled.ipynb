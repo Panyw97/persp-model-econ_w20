{
 "cells": [
  {
   "cell_type": "markdown",
   "metadata": {},
   "source": [
    "Simpson's rule offers a smooth nonlinear (quadratic) alternative the linear approximations of the midpoint and trapezoid rules. Simpson's rule finds the unique quadratic function in $x$ that passes through the end points and the midpoint of the function $g(a)$, $g\\left(\\frac{a+b}{2}\\right)$, and $g(b)$, which produces the following weights and values. $$\\label{NumInt_EqSimpsRule} \\int_a^b g(x)dx \\approx \\frac{b-a}{6}\\left[g(a) + 4g\\left(\\frac{a+b}{2}\\right) + g(b)\\right] $$\n",
    "Again, a more sophisticated Simpson's rule is the composite Simpson's rule, which breaks up the domain of the function $g(x)$ into $2N$ intervals and applies the Simpson's rule to each interval. For nodes $x_0,x_1,\\ldots,x_{2N}$ with $x_i=a+i(b-a)/(2N)$, the composite Simpson's rule is given by $$\\label{NumInt_EqTrapRuleComp2} \\int_a^b g(x)dx \\approx \\frac{b-a}{6N}\\left[g(x<em>0) + 4\\sum</em>{i=1,3,\\ldots}^{2N-1}g(x<em>i) + 2\\sum</em>{i=2,4,\\ldots}^{2N-2}g(x<em>i) + g(x</em>{2N})\\right] $$"
   ]
  }
 ],
 "metadata": {
  "kernelspec": {
   "display_name": "Python 3",
   "language": "python",
   "name": "python3"
  },
  "language_info": {
   "codemirror_mode": {
    "name": "ipython",
    "version": 3
   },
   "file_extension": ".py",
   "mimetype": "text/x-python",
   "name": "python",
   "nbconvert_exporter": "python",
   "pygments_lexer": "ipython3",
   "version": "3.7.4"
  }
 },
 "nbformat": 4,
 "nbformat_minor": 2
}
