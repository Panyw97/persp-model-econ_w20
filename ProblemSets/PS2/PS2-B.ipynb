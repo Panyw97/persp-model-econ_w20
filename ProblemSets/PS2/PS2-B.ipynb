{
 "cells": [
  {
   "cell_type": "markdown",
   "metadata": {},
   "source": [
    "# Problem Set 2 - B"
   ]
  },
  {
   "cell_type": "markdown",
   "metadata": {},
   "source": [
    "## Yanwei Pan\n",
    "panyw@uchicago.edu"
   ]
  },
  {
   "cell_type": "markdown",
   "metadata": {},
   "source": [
    "### Question 2: Numerical integration exercises"
   ]
  },
  {
   "cell_type": "code",
   "execution_count": 35,
   "metadata": {},
   "outputs": [
    {
     "name": "stdout",
     "output_type": "stream",
     "text": [
      "Midpoint method: difference = 0.003333319551529712\n",
      "Trapezoid method: difference = 0.03333336060950387\n",
      "Simpsons method: difference = 0.02333334692320932\n"
     ]
    }
   ],
   "source": [
    "#############Exercise 2.1#############\n",
    "\n",
    "import numpy as np\n",
    "def g(x):\n",
    "    return 0.1 * (x ** 4) - 1.5 * (x ** 3) + 0.53 * (x ** 2) + 1\n",
    "\n",
    "#midpoint\n",
    "def mid_point(f, a, b, N):\n",
    "    x = [a + (((2 * i) + 1) * (b - a)) / (2 * N) for i in range(N)]\n",
    "    f_sum = sum(list(map(f, x)))\n",
    "    integral = ((b - a) / N) * f_sum\n",
    "    return integral\n",
    "\n",
    "#trapezoid\n",
    "def trapezoid(f, a, b, N):\n",
    "    x = [a + ((i * (b - a)) / N) for i in range(N)]\n",
    "    f_sum = sum(list(map(f, x)))\n",
    "    integral = ((b - a) / (2 * N)) * (a + 2 * f_sum + b)\n",
    "    return integral\n",
    "\n",
    "#Simpsons\n",
    "def Simpsons(f, a, b, N):\n",
    "    x = [a + ((i * (b - a)) / (2 * N)) for i in range(2 * N)]\n",
    "    x_odds = x[::2]\n",
    "    x_even = x[1::2]\n",
    "    f_sum_odds = sum(list(map(f, x_odds)))\n",
    "    f_sum_even = sum(list(map(f, x_even)))\n",
    "    integral = ((b - a) / (6 * N)) * (a + 4 * f_sum_odds + 2 * \\\n",
    "                                      f_sum_even + b)\n",
    "    return integral\n",
    "\n",
    "true = 4373.33\n",
    "print(\"Midpoint method: difference = {}\".format\\\n",
    "      (abs(mid_point(g, -10, 10, 1000000) - true)))\n",
    "print(\"Trapezoid method: difference = {}\".format\\\n",
    "      (abs(trapezoid(g, -10, 10, 1000000) - true)))\n",
    "print(\"Simpsons method: difference = {}\".format\\\n",
    "      (abs(Simpsons(g, -10, 10, 1000000) - true)))"
   ]
  },
  {
   "cell_type": "code",
   "execution_count": 32,
   "metadata": {},
   "outputs": [
    {
     "data": {
      "text/html": [
       "<div>\n",
       "<style scoped>\n",
       "    .dataframe tbody tr th:only-of-type {\n",
       "        vertical-align: middle;\n",
       "    }\n",
       "\n",
       "    .dataframe tbody tr th {\n",
       "        vertical-align: top;\n",
       "    }\n",
       "\n",
       "    .dataframe thead th {\n",
       "        text-align: right;\n",
       "    }\n",
       "</style>\n",
       "<table border=\"1\" class=\"dataframe\">\n",
       "  <thead>\n",
       "    <tr style=\"text-align: right;\">\n",
       "      <th></th>\n",
       "      <th>Nodes</th>\n",
       "      <th>Weights</th>\n",
       "    </tr>\n",
       "  </thead>\n",
       "  <tbody>\n",
       "    <tr>\n",
       "      <td>0</td>\n",
       "      <td>-4.0</td>\n",
       "      <td>0.000159</td>\n",
       "    </tr>\n",
       "    <tr>\n",
       "      <td>1</td>\n",
       "      <td>-3.2</td>\n",
       "      <td>0.002396</td>\n",
       "    </tr>\n",
       "    <tr>\n",
       "      <td>2</td>\n",
       "      <td>-2.4</td>\n",
       "      <td>0.020195</td>\n",
       "    </tr>\n",
       "    <tr>\n",
       "      <td>3</td>\n",
       "      <td>-1.6</td>\n",
       "      <td>0.092320</td>\n",
       "    </tr>\n",
       "    <tr>\n",
       "      <td>4</td>\n",
       "      <td>-0.8</td>\n",
       "      <td>0.229509</td>\n",
       "    </tr>\n",
       "    <tr>\n",
       "      <td>5</td>\n",
       "      <td>0.0</td>\n",
       "      <td>0.310843</td>\n",
       "    </tr>\n",
       "    <tr>\n",
       "      <td>6</td>\n",
       "      <td>0.8</td>\n",
       "      <td>0.229509</td>\n",
       "    </tr>\n",
       "    <tr>\n",
       "      <td>7</td>\n",
       "      <td>1.6</td>\n",
       "      <td>0.092320</td>\n",
       "    </tr>\n",
       "    <tr>\n",
       "      <td>8</td>\n",
       "      <td>2.4</td>\n",
       "      <td>0.020195</td>\n",
       "    </tr>\n",
       "    <tr>\n",
       "      <td>9</td>\n",
       "      <td>3.2</td>\n",
       "      <td>0.002396</td>\n",
       "    </tr>\n",
       "    <tr>\n",
       "      <td>10</td>\n",
       "      <td>4.0</td>\n",
       "      <td>0.000159</td>\n",
       "    </tr>\n",
       "  </tbody>\n",
       "</table>\n",
       "</div>"
      ],
      "text/plain": [
       "    Nodes   Weights\n",
       "0    -4.0  0.000159\n",
       "1    -3.2  0.002396\n",
       "2    -2.4  0.020195\n",
       "3    -1.6  0.092320\n",
       "4    -0.8  0.229509\n",
       "5     0.0  0.310843\n",
       "6     0.8  0.229509\n",
       "7     1.6  0.092320\n",
       "8     2.4  0.020195\n",
       "9     3.2  0.002396\n",
       "10    4.0  0.000159"
      ]
     },
     "execution_count": 32,
     "metadata": {},
     "output_type": "execute_result"
    }
   ],
   "source": [
    "#############Exercise 2.2#############\n",
    "\n",
    "import pandas as pd\n",
    "import scipy.stats as sts\n",
    "\n",
    "def Normal(mean, std, n, N):\n",
    "    a = mean - std * n\n",
    "    b = mean + std * n\n",
    "    z = np.linspace(a, b, N)\n",
    "    midpoint = (z[1:] + z[:-1]) / 2\n",
    "    w1 = sts.norm.cdf(midpoint[0], mean, std)\n",
    "    wi = sts.norm.cdf(midpoint, mean, std)\n",
    "    wi_1 = np.diff(wi).tolist()\n",
    "    wn = 1 - sts.norm.cdf(midpoint[-1], mean, std)\n",
    "    weight = [w1] + wi_1 + [wn]\n",
    "    z = z.tolist()\n",
    "    data_frame = pd.DataFrame({'Nodes' : z, 'Weights' : weight})\n",
    "    return data_frame\n",
    "\n",
    "Normal(0, 1, 4, 11)"
   ]
  },
  {
   "cell_type": "code",
   "execution_count": 33,
   "metadata": {},
   "outputs": [
    {
     "data": {
      "text/html": [
       "<div>\n",
       "<style scoped>\n",
       "    .dataframe tbody tr th:only-of-type {\n",
       "        vertical-align: middle;\n",
       "    }\n",
       "\n",
       "    .dataframe tbody tr th {\n",
       "        vertical-align: top;\n",
       "    }\n",
       "\n",
       "    .dataframe thead th {\n",
       "        text-align: right;\n",
       "    }\n",
       "</style>\n",
       "<table border=\"1\" class=\"dataframe\">\n",
       "  <thead>\n",
       "    <tr style=\"text-align: right;\">\n",
       "      <th></th>\n",
       "      <th>Nodes</th>\n",
       "      <th>Weights</th>\n",
       "    </tr>\n",
       "  </thead>\n",
       "  <tbody>\n",
       "    <tr>\n",
       "      <td>0</td>\n",
       "      <td>0.018316</td>\n",
       "      <td>0.000159</td>\n",
       "    </tr>\n",
       "    <tr>\n",
       "      <td>1</td>\n",
       "      <td>0.040762</td>\n",
       "      <td>0.002396</td>\n",
       "    </tr>\n",
       "    <tr>\n",
       "      <td>2</td>\n",
       "      <td>0.090718</td>\n",
       "      <td>0.020195</td>\n",
       "    </tr>\n",
       "    <tr>\n",
       "      <td>3</td>\n",
       "      <td>0.201897</td>\n",
       "      <td>0.092320</td>\n",
       "    </tr>\n",
       "    <tr>\n",
       "      <td>4</td>\n",
       "      <td>0.449329</td>\n",
       "      <td>0.229509</td>\n",
       "    </tr>\n",
       "    <tr>\n",
       "      <td>5</td>\n",
       "      <td>1.000000</td>\n",
       "      <td>0.310843</td>\n",
       "    </tr>\n",
       "    <tr>\n",
       "      <td>6</td>\n",
       "      <td>2.225541</td>\n",
       "      <td>0.229509</td>\n",
       "    </tr>\n",
       "    <tr>\n",
       "      <td>7</td>\n",
       "      <td>4.953032</td>\n",
       "      <td>0.092320</td>\n",
       "    </tr>\n",
       "    <tr>\n",
       "      <td>8</td>\n",
       "      <td>11.023176</td>\n",
       "      <td>0.020195</td>\n",
       "    </tr>\n",
       "    <tr>\n",
       "      <td>9</td>\n",
       "      <td>24.532530</td>\n",
       "      <td>0.002396</td>\n",
       "    </tr>\n",
       "    <tr>\n",
       "      <td>10</td>\n",
       "      <td>54.598150</td>\n",
       "      <td>0.000159</td>\n",
       "    </tr>\n",
       "  </tbody>\n",
       "</table>\n",
       "</div>"
      ],
      "text/plain": [
       "        Nodes   Weights\n",
       "0    0.018316  0.000159\n",
       "1    0.040762  0.002396\n",
       "2    0.090718  0.020195\n",
       "3    0.201897  0.092320\n",
       "4    0.449329  0.229509\n",
       "5    1.000000  0.310843\n",
       "6    2.225541  0.229509\n",
       "7    4.953032  0.092320\n",
       "8   11.023176  0.020195\n",
       "9   24.532530  0.002396\n",
       "10  54.598150  0.000159"
      ]
     },
     "execution_count": 33,
     "metadata": {},
     "output_type": "execute_result"
    }
   ],
   "source": [
    "#############Exercise 2.3#############\n",
    "\n",
    "def lognorm(mean, std, n, N):\n",
    "    df = Normal(mean, std, n, N)\n",
    "    weight = df['Weights']\n",
    "    z = df['Nodes']\n",
    "    z = np.exp(z).tolist()\n",
    "    df_new = pd.DataFrame({'Nodes' : z, 'Weights' : weight})\n",
    "    return df_new\n",
    "\n",
    "lognorm(0, 1, 4, 11)"
   ]
  },
  {
   "cell_type": "code",
   "execution_count": 34,
   "metadata": {},
   "outputs": [
    {
     "name": "stdout",
     "output_type": "stream",
     "text": [
      "The difference between approximation and exact expected value of income = 2.5878222643732443\n"
     ]
    }
   ],
   "source": [
    "#############Exercise 2.4#############\n",
    "\n",
    "y = lognorm(10.5, 0.8, 4, 100)\n",
    "approx = sum(y['Nodes'] * y['Weights'])\n",
    "diff = abs(approx - np.exp(10.5 + (0.8 ** 2) / 2))\n",
    "print('The difference between approximation \\\n",
    "and exact expected value of income = {}'.format(diff))"
   ]
  },
  {
   "cell_type": "code",
   "execution_count": 73,
   "metadata": {},
   "outputs": [
    {
     "name": "stdout",
     "output_type": "stream",
     "text": [
      "Gaussian Approximation = 4373.333334986544\n",
      "The difference between Gaussian approximation and Midpoint/Trapezoid/Simpsons Methods = 1.6669928299961612e-06/0.029998374065144162/0.01999836037884961\n",
      "The difference between Gaussian approximation and the true known value = 0.003334986544359708\n"
     ]
    }
   ],
   "source": [
    "#############Exercise 3.1#############\n",
    "a = -10\n",
    "b = 10\n",
    "N = 3\n",
    "from scipy import optimize\n",
    "\n",
    "def h(x):\n",
    "    h = []\n",
    "    for i in range(2 * N):\n",
    "        w,z = x[:N], x[N:]\n",
    "        h.append((b ** (i + 1) - a ** (i + 1)) / (i + 1) - \\\n",
    "                        np.sum([w[q] * (z[q]**i) for q in range(N)]))\n",
    "    return h\n",
    "\n",
    "def Gaussian(f, a, b, N):\n",
    "    init_weight = [1/N for i in range(N)]\n",
    "    x0 = [0 for i in range(N)]\n",
    "    init_value = init_weight + x0\n",
    "    wn = optimize.root(h, init_value).x\n",
    "    w = wn[:N]\n",
    "    z = wn[N:]\n",
    "    approx = 0\n",
    "    for i in range(N):\n",
    "        approx += w[i] * f(z[i])\n",
    "    return approx\n",
    "\n",
    "integral = Gaussian(g , -10, 10, 3)\n",
    "true = 4373.33\n",
    "d =  abs(integral - true)\n",
    "d1 = abs(integral - mid_point(g, -10, 10, 1000000))\n",
    "d2 = abs(integral - trapezoid(g, -10, 10, 1000000))\n",
    "d3 = abs(integral - Simpsons(g, -10, 10, 1000000))\n",
    "print('Gaussian Approximation = {}'.format(integral)) \n",
    "print('The difference between Gaussian approximation \\\n",
    "and Midpoint/Trapezoid/Simpsons Methods = {}/{}/{}'.format(d1, d2, d3))\n",
    "print('The difference between Gaussian approximation and the true \\\n",
    "known value = {}'.format(d))"
   ]
  },
  {
   "cell_type": "code",
   "execution_count": 74,
   "metadata": {},
   "outputs": [
    {
     "name": "stdout",
     "output_type": "stream",
     "text": [
      "The difference between quad command approximation and the true known value = 0.0033333333340124227\n"
     ]
    }
   ],
   "source": [
    "#############Exercise 3.2#############\n",
    "\n",
    "from scipy.integrate import quad\n",
    "quad_approx = quad(g, -10, 10)[0]\n",
    "print('The difference between quad command approximation and the true \\\n",
    "known value = {}'.format(abs(quad_approx - true)))"
   ]
  },
  {
   "cell_type": "code",
   "execution_count": 75,
   "metadata": {},
   "outputs": [],
   "source": [
    "#############Exercise 4.1#############"
   ]
  }
 ],
 "metadata": {
  "kernelspec": {
   "display_name": "Python 3",
   "language": "python",
   "name": "python3"
  },
  "language_info": {
   "codemirror_mode": {
    "name": "ipython",
    "version": 3
   },
   "file_extension": ".py",
   "mimetype": "text/x-python",
   "name": "python",
   "nbconvert_exporter": "python",
   "pygments_lexer": "ipython3",
   "version": "3.7.4"
  }
 },
 "nbformat": 4,
 "nbformat_minor": 2
}
